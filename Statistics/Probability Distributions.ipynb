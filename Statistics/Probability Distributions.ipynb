{
 "cells": [
  {
   "cell_type": "markdown",
   "id": "f7744b51",
   "metadata": {
    "slideshow": {
     "slide_type": "slide"
    }
   },
   "source": [
    "<h1><center>Probability Distributions</center></h1>\n",
    "\n",
    "<center><img src= \"https://miro.medium.com/max/497/1*c2ylMCItL1XG6O3mGhjzng.png\" ></center>"
   ]
  },
  {
   "cell_type": "markdown",
   "id": "0922afe2",
   "metadata": {
    "slideshow": {
     "slide_type": "slide"
    }
   },
   "source": [
    "## Objectives \n",
    "\n",
    "- Probability Distributions (why are they important in Data Careers)  \n",
    "- Define Probability Distributions \n",
    "- Different Types of Probability Distribution\n",
    "- Probability Mass Function (PMF)\n",
    "- Probabiity Density Function (PDF)\n",
    "- PMF vs. PDF "
   ]
  },
  {
   "cell_type": "markdown",
   "id": "8a1f6596",
   "metadata": {
    "slideshow": {
     "slide_type": "slide"
    }
   },
   "source": [
    "## Probability Distributions (why should you care?) \n",
    "\n",
    "- Distributions of data can determine what analytics you perform and what model you utilize \n",
    "- Predicting number of car crashes during a specific time period (Poisson) \n",
    "- Predicting water pump failure (Bernoulli)\n",
    "- And more busniess use cases!\n",
    "\n",
    "<center><img src = \"https://coverager.com/wp-content/uploads/2021/03/6-Crash-Types-visual-1024x569.png\"></center>"
   ]
  },
  {
   "cell_type": "markdown",
   "id": "5590e80c",
   "metadata": {
    "slideshow": {
     "slide_type": "slide"
    }
   },
   "source": [
    "## Definition of a Probability Distribution \n",
    "- A stats function of all the possible values and likelihoods that a random variable can take\n",
    "    - Random Var can be any discrete or continuous numeric variable (height, weight, number of eggs in a basket)"
   ]
  },
  {
   "cell_type": "markdown",
   "id": "1467cd0f",
   "metadata": {
    "slideshow": {
     "slide_type": "slide"
    }
   },
   "source": [
    "## Types of Probability Distribution \n",
    "\n",
    "<center><img src= \"https://bernard-mlab.com/images/common-distribution_huec055ab3bd48482f92384431f8f73d3e_75898_900x500_fit_box_2.png\"></center>"
   ]
  },
  {
   "cell_type": "markdown",
   "id": "d3d8bc8b",
   "metadata": {
    "slideshow": {
     "slide_type": "fragment"
    }
   },
   "source": [
    "<center><img src= \"https://www.datasciencecentral.com/wp-content/uploads/2021/10/3969609986-1.png\"></center>"
   ]
  },
  {
   "attachments": {},
   "cell_type": "markdown",
   "id": "12bfc641",
   "metadata": {
    "cell_style": "split",
    "slideshow": {
     "slide_type": "slide"
    }
   },
   "source": [
    "### Bernoulli Distribution (PMF)\n",
    "- A **SINGLE** trial of an outcome's successes/failures \n",
    "    - Winning or losing a single game\n",
    "    - A single toss of a unbiased (fair) coin\n",
    "    - Washing a single load of clothes to see if articles shrink or not \n",
    "    \n",
    "<center><img src = \"http://probabilitycourse.com/images/chapter3/bernoulli(p)%20color.png\"></center>"
   ]
  },
  {
   "cell_type": "markdown",
   "id": "ba21e83f",
   "metadata": {
    "cell_style": "split",
    "slideshow": {
     "slide_type": "fragment"
    }
   },
   "source": [
    "### Binomial Distribution (PMF)\n",
    "- Many **bernoulli/single** trials (the child of the bernoulli!!) \n",
    "    - Washing 10 loads of laundry and getting the probabilities of shrinkage for each load\n",
    "    - Probability of winning or losing a season of games\n",
    "    - Tossing a coin 30 times for 20 trials \n",
    "    \n",
    "    <center><img src= \"https://www.statology.org/wp-content/uploads/2021/01/bernoulli2-1-768x718.png\"></center>"
   ]
  },
  {
   "cell_type": "markdown",
   "id": "b8478d87",
   "metadata": {
    "slideshow": {
     "slide_type": "slide"
    }
   },
   "source": [
    "### Normal Distribution (PDF)\n",
    "- Widely used in Data Science (height, standardized tests' scores, weight, etc)\n",
    "- Continuous probability distribution that is symmetric about the mean\n",
    "    - Mean = Median = Mode\n",
    "- Area under the curve = 1\n",
    "- Can be standardized (more on that later)\n",
    "\n",
    "<center><img src=\"data:image/png;base64,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\"></center>"
   ]
  },
  {
   "cell_type": "markdown",
   "id": "b6f5fbdd",
   "metadata": {
    "slideshow": {
     "slide_type": "slide"
    }
   },
   "source": [
    "## Probability Mass Function \n",
    "- Probability for a value for a **discrete** random variable (die, coin flips)\n",
    "\n",
    "<center><img src = \"https://hadrienj.github.io/assets/images/3.1/mass.png\"></center>"
   ]
  },
  {
   "cell_type": "code",
   "execution_count": 81,
   "id": "282c2d4b",
   "metadata": {
    "slideshow": {
     "slide_type": "fragment"
    }
   },
   "outputs": [
    {
     "data": {
      "text/plain": [
       "array([ 7, 12,  6,  8,  7, 12,  9,  7,  7, 10, 10,  8, 11,  8,  9,  9,  6,\n",
       "       10, 12,  8, 11,  9,  9,  8, 14])"
      ]
     },
     "execution_count": 81,
     "metadata": {},
     "output_type": "execute_result"
    }
   ],
   "source": [
    "from scipy.stats import binom\n",
    "import seaborn as sns\n",
    "import matplotlib.pyplot as plt\n",
    "\n",
    "#Syntax:  scipy.stats.binom.pmf(r,n, p)\n",
    "       # r is a list of integers from 0 to n, inclusive.\n",
    "       # n the total number of trials or times the experiment will be carried out\n",
    "       # p the probability that the outcome of a single experiment will be a success. \n",
    "           #the value of p must be between 0 and 1, inclusive.\n",
    "        \n",
    "\n",
    "n = 20 #num of trials \n",
    "p = 0.50 #probability of success -- let's say it is a fair coin\n",
    "size = 25 #how many of the trials I want to do \n",
    "\n",
    "data_binom = binom.rvs(n=n, p=p, size=size)\n",
    "\n",
    "data_binom"
   ]
  },
  {
   "cell_type": "code",
   "execution_count": 82,
   "id": "58ac51b0",
   "metadata": {
    "slideshow": {
     "slide_type": "fragment"
    }
   },
   "outputs": [
    {
     "data": {
      "image/png": "[encoded data removed]",
      "text/plain": [
       "<Figure size 432x288 with 1 Axes>"
      ]
     },
     "metadata": {
      "needs_background": "light"
     },
     "output_type": "display_data"
    }
   ],
   "source": [
    "#Tie it back with the output above!\n",
    "\n",
    "fig, ax = plt.subplots()\n",
    "\n",
    "sns.histplot(data_binom, ax = ax, bins=25)\n",
    "ax.set_xlim(8,24)\n",
    "ax.set_xticks(range(8,25))\n",
    "plt.show()"
   ]
  },
  {
   "cell_type": "code",
   "execution_count": 22,
   "id": "0be3c10a",
   "metadata": {
    "slideshow": {
     "slide_type": "fragment"
    }
   },
   "outputs": [],
   "source": [
    "#YOU'VE SEEN THESE TYPE OF PLOTS IN DATA BEFORE USING HISTOGRAMS\n",
    "\n",
    "import pandas as pd \n",
    "\n",
    "df = pd.read_csv(\"data/king_county.csv\")"
   ]
  },
  {
   "cell_type": "code",
   "execution_count": 23,
   "id": "8ce8dd7f",
   "metadata": {
    "slideshow": {
     "slide_type": "fragment"
    }
   },
   "outputs": [
    {
     "data": {
      "text/html": [
       "<div>\n",
       "<style scoped>\n",
       "    .dataframe tbody tr th:only-of-type {\n",
       "        vertical-align: middle;\n",
       "    }\n",
       "\n",
       "    .dataframe tbody tr th {\n",
       "        vertical-align: top;\n",
       "    }\n",
       "\n",
       "    .dataframe thead th {\n",
       "        text-align: right;\n",
       "    }\n",
       "</style>\n",
       "<table border=\"1\" class=\"dataframe\">\n",
       "  <thead>\n",
       "    <tr style=\"text-align: right;\">\n",
       "      <th></th>\n",
       "      <th>id</th>\n",
       "      <th>price</th>\n",
       "      <th>bedrooms</th>\n",
       "      <th>bathrooms</th>\n",
       "      <th>sqft_living</th>\n",
       "      <th>sqft_lot</th>\n",
       "      <th>floors</th>\n",
       "      <th>waterfront</th>\n",
       "      <th>view</th>\n",
       "      <th>condition</th>\n",
       "      <th>grade</th>\n",
       "      <th>sqft_above</th>\n",
       "      <th>sqft_basement</th>\n",
       "    </tr>\n",
       "  </thead>\n",
       "  <tbody>\n",
       "    <tr>\n",
       "      <th>0</th>\n",
       "      <td>7129300520</td>\n",
       "      <td>221900.0</td>\n",
       "      <td>3</td>\n",
       "      <td>1.00</td>\n",
       "      <td>1180</td>\n",
       "      <td>5650</td>\n",
       "      <td>1.0</td>\n",
       "      <td>0</td>\n",
       "      <td>0</td>\n",
       "      <td>3</td>\n",
       "      <td>7</td>\n",
       "      <td>1180</td>\n",
       "      <td>0</td>\n",
       "    </tr>\n",
       "    <tr>\n",
       "      <th>1</th>\n",
       "      <td>6414100192</td>\n",
       "      <td>538000.0</td>\n",
       "      <td>3</td>\n",
       "      <td>2.25</td>\n",
       "      <td>2570</td>\n",
       "      <td>7242</td>\n",
       "      <td>2.0</td>\n",
       "      <td>0</td>\n",
       "      <td>0</td>\n",
       "      <td>3</td>\n",
       "      <td>7</td>\n",
       "      <td>2170</td>\n",
       "      <td>400</td>\n",
       "    </tr>\n",
       "    <tr>\n",
       "      <th>2</th>\n",
       "      <td>5631500400</td>\n",
       "      <td>180000.0</td>\n",
       "      <td>2</td>\n",
       "      <td>1.00</td>\n",
       "      <td>770</td>\n",
       "      <td>10000</td>\n",
       "      <td>1.0</td>\n",
       "      <td>0</td>\n",
       "      <td>0</td>\n",
       "      <td>3</td>\n",
       "      <td>6</td>\n",
       "      <td>770</td>\n",
       "      <td>0</td>\n",
       "    </tr>\n",
       "    <tr>\n",
       "      <th>3</th>\n",
       "      <td>2487200875</td>\n",
       "      <td>604000.0</td>\n",
       "      <td>4</td>\n",
       "      <td>3.00</td>\n",
       "      <td>1960</td>\n",
       "      <td>5000</td>\n",
       "      <td>1.0</td>\n",
       "      <td>0</td>\n",
       "      <td>0</td>\n",
       "      <td>5</td>\n",
       "      <td>7</td>\n",
       "      <td>1050</td>\n",
       "      <td>910</td>\n",
       "    </tr>\n",
       "    <tr>\n",
       "      <th>4</th>\n",
       "      <td>1954400510</td>\n",
       "      <td>510000.0</td>\n",
       "      <td>3</td>\n",
       "      <td>2.00</td>\n",
       "      <td>1680</td>\n",
       "      <td>8080</td>\n",
       "      <td>1.0</td>\n",
       "      <td>0</td>\n",
       "      <td>0</td>\n",
       "      <td>3</td>\n",
       "      <td>8</td>\n",
       "      <td>1680</td>\n",
       "      <td>0</td>\n",
       "    </tr>\n",
       "  </tbody>\n",
       "</table>\n",
       "</div>"
      ],
      "text/plain": [
       "           id     price  bedrooms  bathrooms  sqft_living  sqft_lot  floors  \\\n",
       "0  7129300520  221900.0         3       1.00         1180      5650     1.0   \n",
       "1  6414100192  538000.0         3       2.25         2570      7242     2.0   \n",
       "2  5631500400  180000.0         2       1.00          770     10000     1.0   \n",
       "3  2487200875  604000.0         4       3.00         1960      5000     1.0   \n",
       "4  1954400510  510000.0         3       2.00         1680      8080     1.0   \n",
       "\n",
       "   waterfront  view  condition  grade  sqft_above  sqft_basement  \n",
       "0           0     0          3      7        1180              0  \n",
       "1           0     0          3      7        2170            400  \n",
       "2           0     0          3      6         770              0  \n",
       "3           0     0          5      7        1050            910  \n",
       "4           0     0          3      8        1680              0  "
      ]
     },
     "execution_count": 23,
     "metadata": {},
     "output_type": "execute_result"
    }
   ],
   "source": [
    "df.head()"
   ]
  },
  {
   "cell_type": "code",
   "execution_count": 53,
   "id": "8a5f1bbe",
   "metadata": {
    "slideshow": {
     "slide_type": "fragment"
    }
   },
   "outputs": [],
   "source": [
    "x = df[\"grade\"].value_counts()\n"
   ]
  },
  {
   "cell_type": "code",
   "execution_count": 49,
   "id": "cf7652cf",
   "metadata": {
    "slideshow": {
     "slide_type": "fragment"
    }
   },
   "outputs": [
    {
     "data": {
      "text/plain": [
       "<AxesSubplot:xlabel='grade', ylabel='count'>"
      ]
     },
     "execution_count": 49,
     "metadata": {},
     "output_type": "execute_result"
    },
    {
     "data": {
      "image/png": "[encoded data removed]",
      "text/plain": [
       "<Figure size 432x288 with 1 Axes>"
      ]
     },
     "metadata": {
      "needs_background": "light"
     },
     "output_type": "display_data"
    }
   ],
   "source": [
    "sns.countplot(x=\"grade\", data=df)"
   ]
  },
  {
   "cell_type": "markdown",
   "id": "987631d4",
   "metadata": {
    "slideshow": {
     "slide_type": "slide"
    }
   },
   "source": [
    "## Probability Density Function \n",
    "\n",
    "- Total area under the curve = 1\n",
    "- Probability of a continuous random variable lying within a certain **range** of values \n",
    "- We use a **range** because the probability at any single point is = 0 \n",
    "- Can't calculate the probability AT a certain point but we can **look around it**"
   ]
  },
  {
   "cell_type": "code",
   "execution_count": 79,
   "id": "0e182a44",
   "metadata": {
    "slideshow": {
     "slide_type": "fragment"
    }
   },
   "outputs": [
    {
     "name": "stdout",
     "output_type": "stream",
     "text": [
      "Probability of obtaining a value LESS THAN: 1.5 is 0.9331927987311419\n"
     ]
    }
   ],
   "source": [
    "#Standard normal distribution centered at 0 with a sd of 1 probability of being LESS than my x\n",
    "\n",
    "import scipy.stats as stats\n",
    "\n",
    "x = 1.5 #x-value (z-score bc standard normal) of interest \n",
    "cdf_value = stats.norm.cdf(x,loc=0,scale=1)\n",
    "cdf_value\n",
    "\n",
    "print(f'Probability of obtaining a value LESS THAN: {x} is {cdf_value}')"
   ]
  },
  {
   "cell_type": "code",
   "execution_count": 61,
   "id": "dea42225",
   "metadata": {
    "slideshow": {
     "slide_type": "fragment"
    }
   },
   "outputs": [
    {
     "data": {
      "text/plain": [
       "0.06680720126885809"
      ]
     },
     "execution_count": 61,
     "metadata": {},
     "output_type": "execute_result"
    }
   ],
   "source": [
    "#Probability of being GREATER than my x\n",
    "\n",
    "x = 1.5\n",
    "cdf_value = 1 - stats.norm.cdf(x,loc=0,scale=1)\n",
    "cdf_value\n"
   ]
  },
  {
   "cell_type": "markdown",
   "id": "5342acf9",
   "metadata": {
    "slideshow": {
     "slide_type": "slide"
    }
   },
   "source": [
    "### Going back to the dataset! \n",
    "\n",
    "### I am interested the probability of a home in my dataset that is less than 2,200 of sqft_living space..."
   ]
  },
  {
   "cell_type": "code",
   "execution_count": 77,
   "id": "bb0c72e9",
   "metadata": {
    "slideshow": {
     "slide_type": "fragment"
    }
   },
   "outputs": [
    {
     "data": {
      "text/html": [
       "<div>\n",
       "<style scoped>\n",
       "    .dataframe tbody tr th:only-of-type {\n",
       "        vertical-align: middle;\n",
       "    }\n",
       "\n",
       "    .dataframe tbody tr th {\n",
       "        vertical-align: top;\n",
       "    }\n",
       "\n",
       "    .dataframe thead th {\n",
       "        text-align: right;\n",
       "    }\n",
       "</style>\n",
       "<table border=\"1\" class=\"dataframe\">\n",
       "  <thead>\n",
       "    <tr style=\"text-align: right;\">\n",
       "      <th></th>\n",
       "      <th>id</th>\n",
       "      <th>price</th>\n",
       "      <th>bedrooms</th>\n",
       "      <th>bathrooms</th>\n",
       "      <th>sqft_living</th>\n",
       "      <th>sqft_lot</th>\n",
       "      <th>floors</th>\n",
       "      <th>waterfront</th>\n",
       "      <th>view</th>\n",
       "      <th>condition</th>\n",
       "      <th>grade</th>\n",
       "      <th>sqft_above</th>\n",
       "      <th>sqft_basement</th>\n",
       "    </tr>\n",
       "  </thead>\n",
       "  <tbody>\n",
       "    <tr>\n",
       "      <th>count</th>\n",
       "      <td>2.161300e+04</td>\n",
       "      <td>2.161300e+04</td>\n",
       "      <td>21613.000000</td>\n",
       "      <td>21613.000000</td>\n",
       "      <td>21613.000000</td>\n",
       "      <td>2.161300e+04</td>\n",
       "      <td>21613.000000</td>\n",
       "      <td>21613.000000</td>\n",
       "      <td>21613.000000</td>\n",
       "      <td>21613.000000</td>\n",
       "      <td>21613.000000</td>\n",
       "      <td>21613.000000</td>\n",
       "      <td>21613.000000</td>\n",
       "    </tr>\n",
       "    <tr>\n",
       "      <th>mean</th>\n",
       "      <td>4.580302e+09</td>\n",
       "      <td>5.400881e+05</td>\n",
       "      <td>3.370842</td>\n",
       "      <td>2.114757</td>\n",
       "      <td>2079.899736</td>\n",
       "      <td>1.510697e+04</td>\n",
       "      <td>1.494309</td>\n",
       "      <td>0.007542</td>\n",
       "      <td>0.234303</td>\n",
       "      <td>3.409430</td>\n",
       "      <td>7.656873</td>\n",
       "      <td>1788.390691</td>\n",
       "      <td>291.509045</td>\n",
       "    </tr>\n",
       "    <tr>\n",
       "      <th>std</th>\n",
       "      <td>2.876566e+09</td>\n",
       "      <td>3.671272e+05</td>\n",
       "      <td>0.930062</td>\n",
       "      <td>0.770163</td>\n",
       "      <td>918.440897</td>\n",
       "      <td>4.142051e+04</td>\n",
       "      <td>0.539989</td>\n",
       "      <td>0.086517</td>\n",
       "      <td>0.766318</td>\n",
       "      <td>0.650743</td>\n",
       "      <td>1.175459</td>\n",
       "      <td>828.090978</td>\n",
       "      <td>442.575043</td>\n",
       "    </tr>\n",
       "    <tr>\n",
       "      <th>min</th>\n",
       "      <td>1.000102e+06</td>\n",
       "      <td>7.500000e+04</td>\n",
       "      <td>0.000000</td>\n",
       "      <td>0.000000</td>\n",
       "      <td>290.000000</td>\n",
       "      <td>5.200000e+02</td>\n",
       "      <td>1.000000</td>\n",
       "      <td>0.000000</td>\n",
       "      <td>0.000000</td>\n",
       "      <td>1.000000</td>\n",
       "      <td>1.000000</td>\n",
       "      <td>290.000000</td>\n",
       "      <td>0.000000</td>\n",
       "    </tr>\n",
       "    <tr>\n",
       "      <th>25%</th>\n",
       "      <td>2.123049e+09</td>\n",
       "      <td>3.219500e+05</td>\n",
       "      <td>3.000000</td>\n",
       "      <td>1.750000</td>\n",
       "      <td>1427.000000</td>\n",
       "      <td>5.040000e+03</td>\n",
       "      <td>1.000000</td>\n",
       "      <td>0.000000</td>\n",
       "      <td>0.000000</td>\n",
       "      <td>3.000000</td>\n",
       "      <td>7.000000</td>\n",
       "      <td>1190.000000</td>\n",
       "      <td>0.000000</td>\n",
       "    </tr>\n",
       "    <tr>\n",
       "      <th>50%</th>\n",
       "      <td>3.904930e+09</td>\n",
       "      <td>4.500000e+05</td>\n",
       "      <td>3.000000</td>\n",
       "      <td>2.250000</td>\n",
       "      <td>1910.000000</td>\n",
       "      <td>7.618000e+03</td>\n",
       "      <td>1.500000</td>\n",
       "      <td>0.000000</td>\n",
       "      <td>0.000000</td>\n",
       "      <td>3.000000</td>\n",
       "      <td>7.000000</td>\n",
       "      <td>1560.000000</td>\n",
       "      <td>0.000000</td>\n",
       "    </tr>\n",
       "    <tr>\n",
       "      <th>75%</th>\n",
       "      <td>7.308900e+09</td>\n",
       "      <td>6.450000e+05</td>\n",
       "      <td>4.000000</td>\n",
       "      <td>2.500000</td>\n",
       "      <td>2550.000000</td>\n",
       "      <td>1.068800e+04</td>\n",
       "      <td>2.000000</td>\n",
       "      <td>0.000000</td>\n",
       "      <td>0.000000</td>\n",
       "      <td>4.000000</td>\n",
       "      <td>8.000000</td>\n",
       "      <td>2210.000000</td>\n",
       "      <td>560.000000</td>\n",
       "    </tr>\n",
       "    <tr>\n",
       "      <th>max</th>\n",
       "      <td>9.900000e+09</td>\n",
       "      <td>7.700000e+06</td>\n",
       "      <td>33.000000</td>\n",
       "      <td>8.000000</td>\n",
       "      <td>13540.000000</td>\n",
       "      <td>1.651359e+06</td>\n",
       "      <td>3.500000</td>\n",
       "      <td>1.000000</td>\n",
       "      <td>4.000000</td>\n",
       "      <td>5.000000</td>\n",
       "      <td>13.000000</td>\n",
       "      <td>9410.000000</td>\n",
       "      <td>4820.000000</td>\n",
       "    </tr>\n",
       "  </tbody>\n",
       "</table>\n",
       "</div>"
      ],
      "text/plain": [
       "                 id         price      bedrooms     bathrooms   sqft_living  \\\n",
       "count  2.161300e+04  2.161300e+04  21613.000000  21613.000000  21613.000000   \n",
       "mean   4.580302e+09  5.400881e+05      3.370842      2.114757   2079.899736   \n",
       "std    2.876566e+09  3.671272e+05      0.930062      0.770163    918.440897   \n",
       "min    1.000102e+06  7.500000e+04      0.000000      0.000000    290.000000   \n",
       "25%    2.123049e+09  3.219500e+05      3.000000      1.750000   1427.000000   \n",
       "50%    3.904930e+09  4.500000e+05      3.000000      2.250000   1910.000000   \n",
       "75%    7.308900e+09  6.450000e+05      4.000000      2.500000   2550.000000   \n",
       "max    9.900000e+09  7.700000e+06     33.000000      8.000000  13540.000000   \n",
       "\n",
       "           sqft_lot        floors    waterfront          view     condition  \\\n",
       "count  2.161300e+04  21613.000000  21613.000000  21613.000000  21613.000000   \n",
       "mean   1.510697e+04      1.494309      0.007542      0.234303      3.409430   \n",
       "std    4.142051e+04      0.539989      0.086517      0.766318      0.650743   \n",
       "min    5.200000e+02      1.000000      0.000000      0.000000      1.000000   \n",
       "25%    5.040000e+03      1.000000      0.000000      0.000000      3.000000   \n",
       "50%    7.618000e+03      1.500000      0.000000      0.000000      3.000000   \n",
       "75%    1.068800e+04      2.000000      0.000000      0.000000      4.000000   \n",
       "max    1.651359e+06      3.500000      1.000000      4.000000      5.000000   \n",
       "\n",
       "              grade    sqft_above  sqft_basement  \n",
       "count  21613.000000  21613.000000   21613.000000  \n",
       "mean       7.656873   1788.390691     291.509045  \n",
       "std        1.175459    828.090978     442.575043  \n",
       "min        1.000000    290.000000       0.000000  \n",
       "25%        7.000000   1190.000000       0.000000  \n",
       "50%        7.000000   1560.000000       0.000000  \n",
       "75%        8.000000   2210.000000     560.000000  \n",
       "max       13.000000   9410.000000    4820.000000  "
      ]
     },
     "execution_count": 77,
     "metadata": {},
     "output_type": "execute_result"
    }
   ],
   "source": [
    "#Get the mean and standard deviation from a .describe() \n",
    "#Remember I am interested in continuous variables \n",
    "\n",
    "df.describe()"
   ]
  },
  {
   "cell_type": "code",
   "execution_count": 75,
   "id": "113be09b",
   "metadata": {
    "slideshow": {
     "slide_type": "fragment"
    }
   },
   "outputs": [
    {
     "data": {
      "text/plain": [
       "0.58623282126848"
      ]
     },
     "execution_count": 75,
     "metadata": {},
     "output_type": "execute_result"
    }
   ],
   "source": [
    "stats.norm.cdf(2200, 2000, 918)"
   ]
  },
  {
   "cell_type": "markdown",
   "id": "8edf9058",
   "metadata": {
    "slideshow": {
     "slide_type": "slide"
    }
   },
   "source": [
    "<h1><center>The End</center></h1>"
   ]
  },
  {
   "cell_type": "code",
   "execution_count": 83,
   "id": "fa8b0656",
   "metadata": {
    "cell_style": "split"
   },
   "outputs": [
    {
     "data": {
      "text/plain": [
       "{'theme': 'white',\n",
       " 'transition': 'fade',\n",
       " 'start_slideshow_at': 'selected',\n",
       " 'autolaunch': False,\n",
       " 'width': '100%',\n",
       " 'height': '100%',\n",
       " 'header': '  <h2>Python (Stats) - Probability Distributions</h2>',\n",
       " 'footer': '  <h3>Learning with Jelly</h3>',\n",
       " 'scroll': True,\n",
       " 'enable_chalkboard': True,\n",
       " 'slideNumber': True,\n",
       " 'center': False,\n",
       " 'controlsLayout': 'edges',\n",
       " 'hash': True}"
      ]
     },
     "execution_count": 83,
     "metadata": {},
     "output_type": "execute_result"
    }
   ],
   "source": [
    "from traitlets.config.manager import BaseJSONConfigManager\n",
    "from pathlib import Path\n",
    "path = Path.home() / \".jupyter\" / \"nbconfig\"\n",
    "cm = BaseJSONConfigManager(config_dir=str(path))\n",
    "cm.update(\n",
    "    \"rise\",\n",
    "    {\n",
    "        \"theme\": \"white\",\n",
    "        \"transition\": \"fade\",\n",
    "        \"start_slideshow_at\": \"selected\",\n",
    "        \"footer\": \"  <h3>Learning with Jelly</h3>\",\n",
    "        \"header\": \"  <h2>Python (Stats) - Probability Distributions</h2>\",\n",
    "        \"enable_chalkboard\": True\n",
    "     }\n",
    ")"
   ]
  }
 ],
 "metadata": {
  "celltoolbar": "Slideshow",
  "kernelspec": {
   "display_name": "Python 3",
   "language": "python",
   "name": "python3"
  },
  "language_info": {
   "codemirror_mode": {
    "name": "ipython",
    "version": 3
   },
   "file_extension": ".py",
   "mimetype": "text/x-python",
   "name": "python",
   "nbconvert_exporter": "python",
   "pygments_lexer": "ipython3",
   "version": "3.8.8"
  }
 },
 "nbformat": 4,
 "nbformat_minor": 5
}
