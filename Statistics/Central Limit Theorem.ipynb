{
 "cells": [
  {
   "cell_type": "markdown",
   "id": "f7744b51",
   "metadata": {
    "slideshow": {
     "slide_type": "slide"
    }
   },
   "source": [
    "<h1><center>Central Limit Theorem</center></h1>\n",
    "\n",
    "<center><img src= \"https://media.geeksforgeeks.org/wp-content/uploads/20200713005529/IllustrationCentralTheorem2.png\", width=600, height=600 ></center>\n",
    "<h5><center>Source: GeeksforGeeks.com</center></h5>"
   ]
  },
  {
   "cell_type": "markdown",
   "id": "0922afe2",
   "metadata": {
    "slideshow": {
     "slide_type": "slide"
    }
   },
   "source": [
    "## Objectives \n",
    "\n",
    "- Central Limit Theorem (why should you care?) \n",
    "- Definition of Central Limit Theorem\n",
    "\n"
   ]
  },
  {
   "cell_type": "markdown",
   "id": "8a1f6596",
   "metadata": {
    "slideshow": {
     "slide_type": "slide"
    }
   },
   "source": [
    "## Central Limit Theorem (why should you care?) \n",
    "\n",
    "- Informs the solution of linear regression \n",
    "- Allows you to obtain an approximate standard normal distribution even when input vars aren't normal \n",
    "    - Ideal when you can't obtain information for an entire population \n",
    "\n",
    "<center><img src = \"\"></center>"
   ]
  },
  {
   "cell_type": "markdown",
   "id": "54aff148",
   "metadata": {
    "slideshow": {
     "slide_type": "slide"
    }
   },
   "source": [
    "## Definition\n",
    "- Theorem:  \"As the size of the sample increases, the distribution of the mean across multiple samples will approximate a normal distribution\" \n",
    "\n",
    "<center><img src= \"https://cdn.corporatefinanceinstitute.com/assets/Central-Limit-Theorem-CLT-Diagram.png\"></center>"
   ]
  },
  {
   "cell_type": "markdown",
   "id": "8b4ada8f",
   "metadata": {
    "slideshow": {
     "slide_type": "slide"
    }
   },
   "source": [
    "## Assumptions\n",
    "- Data must be sampled randomly \n",
    "- Samples should be independent \n",
    "- Sample size should be 'large' (larger for skewed distributions not as large for symmetric ones)"
   ]
  },
  {
   "cell_type": "markdown",
   "id": "dcd175e2",
   "metadata": {
    "slideshow": {
     "slide_type": "slide"
    }
   },
   "source": [
    "## Demonstration"
   ]
  },
  {
   "cell_type": "markdown",
   "id": "567da8fc",
   "metadata": {
    "slideshow": {
     "slide_type": "fragment"
    }
   },
   "source": [
    "### Revist the title slide image...\n",
    "<center><img src= \"https://media.geeksforgeeks.org/wp-content/uploads/20200713005529/IllustrationCentralTheorem2.png\", width=600, height=600 ></center>\n",
    "<h5><center>Source: GeeksforGeeks.com</center></h5>\n"
   ]
  },
  {
   "cell_type": "code",
   "execution_count": 4,
   "id": "cc708a45",
   "metadata": {
    "slideshow": {
     "slide_type": "fragment"
    }
   },
   "outputs": [
    {
     "data": {
      "image/png": "[encoded data removed]",
      "text/plain": [
       "<Figure size 576x576 with 4 Axes>"
      ]
     },
     "metadata": {
      "needs_background": "light"
     },
     "output_type": "display_data"
    }
   ],
   "source": [
    "import numpy\n",
    "import matplotlib.pyplot as plt\n",
    "\n",
    "\n",
    "# number of sample\n",
    "num = [1, 10, 50, 100] \n",
    "# list of sample means\n",
    "means = [] \n",
    " \n",
    "# Generating 1, 10, 30, 100 random numbers from -40 to 40\n",
    "# taking their mean and appending it to list means.\n",
    "for j in num:\n",
    "    # Generating seed so that we can get same result\n",
    "    # every time the loop is run...\n",
    "    numpy.random.seed(1)\n",
    "    x = [numpy.mean(\n",
    "        numpy.random.randint(\n",
    "            -50, 100, j)) for _i in range(1000)]\n",
    "    means.append(x)\n",
    "k = 0\n",
    " \n",
    "# plotting all the means in one figure\n",
    "fig, ax = plt.subplots(2, 2, figsize =(8, 8))\n",
    "for i in range(0, 2):\n",
    "    for j in range(0, 2):\n",
    "        # Histogram for each x stored in means\n",
    "        ax[i, j].hist(means[k], 10, density = True)\n",
    "        ax[i, j].set_title(label = num[k])\n",
    "        k = k + 1\n",
    "plt.show()"
   ]
  },
  {
   "cell_type": "markdown",
   "id": "8edf9058",
   "metadata": {
    "slideshow": {
     "slide_type": "slide"
    }
   },
   "source": [
    "<h1><center>The End</center></h1>"
   ]
  },
  {
   "cell_type": "code",
   "execution_count": null,
   "id": "fa8b0656",
   "metadata": {
    "cell_style": "center",
    "slideshow": {
     "slide_type": "skip"
    }
   },
   "outputs": [],
   "source": [
    "from traitlets.config.manager import BaseJSONConfigManager\n",
    "from pathlib import Path\n",
    "path = Path.home() / \".jupyter\" / \"nbconfig\"\n",
    "cm = BaseJSONConfigManager(config_dir=str(path))\n",
    "cm.update(\n",
    "    \"rise\",\n",
    "    {\n",
    "        \"theme\": \"white\",\n",
    "        \"transition\": \"fade\",\n",
    "        \"start_slideshow_at\": \"selected\",\n",
    "        \"footer\": \"  <h3>Learning with Jelly</h3>\",\n",
    "        \"header\": \"  <h2>Python (Stats) - Normal Distributuion</h2>\",\n",
    "        \"enable_chalkboard\": True\n",
    "     }\n",
    ")"
   ]
  }
 ],
 "metadata": {
  "celltoolbar": "Slideshow",
  "kernelspec": {
   "display_name": "Python 3",
   "language": "python",
   "name": "python3"
  },
  "language_info": {
   "codemirror_mode": {
    "name": "ipython",
    "version": 3
   },
   "file_extension": ".py",
   "mimetype": "text/x-python",
   "name": "python",
   "nbconvert_exporter": "python",
   "pygments_lexer": "ipython3",
   "version": "3.8.8"
  }
 },
 "nbformat": 4,
 "nbformat_minor": 5
}
