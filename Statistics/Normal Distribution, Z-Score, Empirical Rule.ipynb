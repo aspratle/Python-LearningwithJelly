{
 "cells": [
  {
   "cell_type": "markdown",
   "id": "f7744b51",
   "metadata": {
    "slideshow": {
     "slide_type": "slide"
    }
   },
   "source": [
    "<h1><center>Normal Distribution, Z-Score, Empirical Rule</center></h1>\n",
    "\n",
    "<center><img src= \"https://www.thoughtco.com/thmb/q33ZnuZe03BG-ei4NdLlzipT1r4=/768x0/filters:no_upscale():max_bytes(150000):strip_icc():format(webp)/GettyImages-491732451-58b8442b3df78c060e67c9f8.jpg\", width=600, height=600 ></center>\n",
    "<h5><center>Source: mstay/GettyImages</center></h5>"
   ]
  },
  {
   "cell_type": "markdown",
   "id": "0922afe2",
   "metadata": {
    "slideshow": {
     "slide_type": "slide"
    }
   },
   "source": [
    "## Objectives \n",
    "\n",
    "- Normal Distribution (why should you care?) \n",
    "- Characteristics of a Normal Distribution \n",
    "- Generate a Random Normal Distribution\n",
    "- Standard Normal Distribution \n",
    "- Empirical Rule"
   ]
  },
  {
   "cell_type": "markdown",
   "id": "8a1f6596",
   "metadata": {
    "slideshow": {
     "slide_type": "slide"
    }
   },
   "source": [
    "## Normal Distribution (why should you care?) \n",
    "\n",
    "- One of the most common distributions in Data Science \n",
    "- Allows us to perform hypothesis tests (is this product's mean sales different in Dec when compared to Jan) \n",
    "- Ultimate \"End Game\" - goal for \"non-normal\" distributions is to become normal \n",
    "\n",
    "<center><img src = \"https://miro.medium.com/max/1131/1*SD4MtJcsheHu5uqH10eyjw.png\"></center>"
   ]
  },
  {
   "cell_type": "markdown",
   "id": "5590e80c",
   "metadata": {
    "slideshow": {
     "slide_type": "slide"
    }
   },
   "source": [
    "## Characteristics of a Normal Distribution (\"Gaussian\")\n",
    "- Definition:  Symmetric Bell Curve where the mean, median, and mode are equal \n",
    "- Characteristics: \n",
    "    - Continuous Distribution \n",
    "    - An underlying Probability Density Function \n",
    "    - **TWO MAIN PARAMETERS: MEAN ($\\mu$) AND STANDARD DEVIATION ($\\sigma$)**\n",
    "    - Area under the curve = 1\n",
    "    - Denser in the center with less dense tails \n",
    "    \n",
    "    \n",
    "<center><img src = \"https://i0.wp.com/statisticsbyjim.com/wp-content/uploads/2018/04/pizza_delivery.png?resize=576%2C384\"></center>    \n",
    "<h5><center>Source: Statistics by Jim</center></h5>"
   ]
  },
  {
   "cell_type": "markdown",
   "id": "1467cd0f",
   "metadata": {
    "slideshow": {
     "slide_type": "slide"
    }
   },
   "source": [
    "## Generating a Random Normal Distribution in Python\n"
   ]
  },
  {
   "cell_type": "code",
   "execution_count": 3,
   "id": "4b4e1425",
   "metadata": {
    "cell_style": "split",
    "slideshow": {
     "slide_type": "slide"
    }
   },
   "outputs": [
    {
     "data": {
      "image/png": "[encoded data removed]",
      "text/plain": [
       "<Figure size 432x288 with 1 Axes>"
      ]
     },
     "metadata": {
      "needs_background": "light"
     },
     "output_type": "display_data"
    }
   ],
   "source": [
    "import numpy as np\n",
    "import seaborn as sns\n",
    "\n",
    "mu = 0 #mean \n",
    "sigma = 4 #std dev\n",
    "n = 1000\n",
    "s = np.random.normal(mu, sigma, n)\n",
    "sns.histplot(s, kde=True); #may be sns.distplot for some "
   ]
  },
  {
   "cell_type": "markdown",
   "id": "12bfc641",
   "metadata": {
    "cell_style": "split",
    "slideshow": {
     "slide_type": "fragment"
    }
   },
   "source": [
    "### Different $\\mu$ and $\\sigma$\n",
    "    \n",
    "<center><img src = \"https://www.varsitytutors.com/assets/vt-hotmath-legacy/hotmath_help/topics/normal-distribution-of-data/normal-distribution-1.gif\"></center>"
   ]
  },
  {
   "cell_type": "markdown",
   "id": "ba21e83f",
   "metadata": {
    "cell_style": "center",
    "slideshow": {
     "slide_type": "slide"
    }
   },
   "source": [
    "### Standard Normal Distribution \n",
    "- **Special Case where mean ($\\mu$) is 0 and the ($\\sigma$) is 1**\n",
    "- Allows us to calculate z-scores \n",
    "    - Number of standard deviations you are from the mean\n",
    "    - It will allow us to compare scores from different normal distributions (ideal)\n",
    "    \n",
    "    <center><img src= \"https://miro.medium.com/max/1400/1*sljp3pO2nR9p8Go_xwWUOA.png\"></center>"
   ]
  },
  {
   "cell_type": "markdown",
   "id": "b8478d87",
   "metadata": {
    "slideshow": {
     "slide_type": "slide"
    }
   },
   "source": [
    "### Empirical Rule\n",
    "- Allows us to know how extreme a value in question is \n",
    "<center><img src=\"https://www.varsitytutors.com/assets/vt-hotmath-legacy/hotmath_help/topics/normal-distribution-of-data/normal-distribution-2.gif\", width=600, height=600></center>"
   ]
  },
  {
   "cell_type": "markdown",
   "id": "9072f026",
   "metadata": {
    "slideshow": {
     "slide_type": "fragment"
    }
   },
   "source": [
    "### Scenario: \n",
    "\n",
    "A student recieved an 85 on an Organic Chemistry Test.  The mean score of the test is 78 with a standard deviation of 3.  "
   ]
  },
  {
   "cell_type": "code",
   "execution_count": 4,
   "id": "22563dad",
   "metadata": {
    "slideshow": {
     "slide_type": "fragment"
    }
   },
   "outputs": [
    {
     "data": {
      "text/plain": [
       "2.3333333333333335"
      ]
     },
     "execution_count": 4,
     "metadata": {},
     "output_type": "execute_result"
    }
   ],
   "source": [
    "x = 85 #value we are interested in \n",
    "mu = 78 #mean \n",
    "sigma = 3 #standard deviation \n",
    "\n",
    "z_score = (x-mu)/sigma #z_score formula \n",
    "z_score"
   ]
  },
  {
   "cell_type": "markdown",
   "id": "4e309bc7",
   "metadata": {},
   "source": [
    "### Where does this z-score land on the normal distribution? (How \"rare\" is this score?)\n",
    "\n",
    "<center><img src=\"https://cdn.scribbr.com/wp-content/uploads/2020/10/standard-normal-distribution-1024x633.png\"></center>"
   ]
  },
  {
   "cell_type": "code",
   "execution_count": 5,
   "id": "de631e5a",
   "metadata": {
    "slideshow": {
     "slide_type": "fragment"
    }
   },
   "outputs": [
    {
     "data": {
      "text/plain": [
       "0.9901759273418035"
      ]
     },
     "execution_count": 5,
     "metadata": {},
     "output_type": "execute_result"
    }
   ],
   "source": [
    "## Z-Score function in Python -- gives us the probability of scores less than or equal to\n",
    "import scipy.stats as stats\n",
    "\n",
    "stats.norm.cdf(2.333) #2.333 is the z-score from above"
   ]
  },
  {
   "cell_type": "markdown",
   "id": "8edf9058",
   "metadata": {
    "slideshow": {
     "slide_type": "slide"
    }
   },
   "source": [
    "<h1><center>The End</center></h1>"
   ]
  },
  {
   "cell_type": "code",
   "execution_count": null,
   "id": "fa8b0656",
   "metadata": {
    "cell_style": "center",
    "slideshow": {
     "slide_type": "skip"
    }
   },
   "outputs": [],
   "source": [
    "from traitlets.config.manager import BaseJSONConfigManager\n",
    "from pathlib import Path\n",
    "path = Path.home() / \".jupyter\" / \"nbconfig\"\n",
    "cm = BaseJSONConfigManager(config_dir=str(path))\n",
    "cm.update(\n",
    "    \"rise\",\n",
    "    {\n",
    "        \"theme\": \"white\",\n",
    "        \"transition\": \"fade\",\n",
    "        \"start_slideshow_at\": \"selected\",\n",
    "        \"footer\": \"  <h3>Learning with Jelly</h3>\",\n",
    "        \"header\": \"  <h2>Python (Stats) - Normal Distributuion</h2>\",\n",
    "        \"enable_chalkboard\": True\n",
    "     }\n",
    ")"
   ]
  }
 ],
 "metadata": {
  "celltoolbar": "Slideshow",
  "kernelspec": {
   "display_name": "Python 3",
   "language": "python",
   "name": "python3"
  },
  "language_info": {
   "codemirror_mode": {
    "name": "ipython",
    "version": 3
   },
   "file_extension": ".py",
   "mimetype": "text/x-python",
   "name": "python",
   "nbconvert_exporter": "python",
   "pygments_lexer": "ipython3",
   "version": "3.8.8"
  }
 },
 "nbformat": 4,
 "nbformat_minor": 5
}
