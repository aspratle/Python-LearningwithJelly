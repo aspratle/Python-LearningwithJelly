{
 "cells": [
  {
   "cell_type": "markdown",
   "id": "d93d0826",
   "metadata": {
    "slideshow": {
     "slide_type": "slide"
    }
   },
   "source": [
    "<h1><center>Python Variables - Strings</center></h1>\n",
    "\n",
    "<center><img src=\"https://thumbs.dreamstime.com/b/ball-string-25084377.jpg\"/></center>"
   ]
  },
  {
   "cell_type": "markdown",
   "id": "2f292005",
   "metadata": {
    "cell_style": "center",
    "slideshow": {
     "slide_type": "slide"
    }
   },
   "source": [
    "## Objectives \n",
    "\n",
    "- Strings in Data Science (why should you care)\n",
    "- Define a string \n",
    "- Indexing a string \n",
    "- Common string methods \n",
    "- Concatenation (aka joining strings)"
   ]
  },
  {
   "cell_type": "markdown",
   "id": "706508a3",
   "metadata": {
    "cell_style": "center",
    "slideshow": {
     "slide_type": "slide"
    }
   },
   "source": [
    "## Strings in Data Science... \n",
    "\n",
    "- Strings can show up in variables used for predictions (mostly shown as the \"object\" data type) \n",
    "- Strings can show up as \"text\" and knowing string methods can help us \"pre-process\" text to do Natural Language Processing and Sentiment Analysis \n",
    "\n",
    "![sentiment](https://d3caycb064h6u1.cloudfront.net/wp-content/uploads/2021/06/Untitled-3.png)"
   ]
  },
  {
   "cell_type": "markdown",
   "id": "f29ef6be",
   "metadata": {
    "slideshow": {
     "slide_type": "slide"
    }
   },
   "source": [
    "## What is a string? \n",
    "\n",
    "- Enclosed by single or double quotes (' ', \" \") \n",
    "\n",
    "- Can contain numbers, letters, or special characters "
   ]
  },
  {
   "cell_type": "code",
   "execution_count": null,
   "id": "7205d5c0",
   "metadata": {
    "slideshow": {
     "slide_type": "fragment"
    }
   },
   "outputs": [],
   "source": [
    "name = \"Jelly\"\n",
    "address = \"123 Main Street\"\n",
    "expression = 'I l0ve Disney!!'"
   ]
  },
  {
   "cell_type": "markdown",
   "id": "ab004054",
   "metadata": {
    "slideshow": {
     "slide_type": "slide"
    }
   },
   "source": [
    "## Indexing a String\n",
    "\n",
    "- Pull out parts of a string by using brackets [] \n",
    "- Indexing starts at **ZERO**!\n",
    "- Up to but **NOT** Including the last number \n",
    "    i.e. [0:4] would be indexes 0 to 3"
   ]
  },
  {
   "cell_type": "code",
   "execution_count": null,
   "id": "5725e401",
   "metadata": {
    "slideshow": {
     "slide_type": "fragment"
    }
   },
   "outputs": [],
   "source": [
    "name = \"Ms. Jelly\"\n",
    "name[0:3]"
   ]
  },
  {
   "cell_type": "markdown",
   "id": "2bf417c0",
   "metadata": {
    "slideshow": {
     "slide_type": "slide"
    }
   },
   "source": [
    "### Can do negative indexing... "
   ]
  },
  {
   "cell_type": "code",
   "execution_count": null,
   "id": "029a76c2",
   "metadata": {
    "slideshow": {
     "slide_type": "fragment"
    }
   },
   "outputs": [],
   "source": [
    "email = \"jellyjelly@gmail.com\"\n",
    "email[-9:]"
   ]
  },
  {
   "cell_type": "markdown",
   "id": "611b7a1b",
   "metadata": {
    "slideshow": {
     "slide_type": "slide"
    }
   },
   "source": [
    "## Methods \n",
    "\n",
    "- Syntax: string.method()\n",
    "- Change the appearance of a string (capitalize, lower, swapcase)\n",
    "- Remove (\"trim\") blank spaces \n",
    "- Split the string based on a delimiter or separator \n",
    "- Boolean checks (is numeric, is lower, etc.)\n",
    "- And More!"
   ]
  },
  {
   "cell_type": "code",
   "execution_count": null,
   "id": "9b5dc409",
   "metadata": {
    "slideshow": {
     "slide_type": "fragment"
    }
   },
   "outputs": [],
   "source": [
    "Full_Name = \"Jelly Doe\"\n",
    "\n",
    "Full_Name.upper()"
   ]
  },
  {
   "cell_type": "code",
   "execution_count": null,
   "id": "c9e3333a",
   "metadata": {
    "slideshow": {
     "slide_type": "fragment"
    }
   },
   "outputs": [],
   "source": [
    "Full_Name = \"Jelly,Doe\"\n",
    "\n",
    "Full_Name.split(\",\")"
   ]
  },
  {
   "cell_type": "code",
   "execution_count": null,
   "id": "9edac54f",
   "metadata": {
    "slideshow": {
     "slide_type": "fragment"
    }
   },
   "outputs": [],
   "source": [
    "theme_park = '     Disney   '\n",
    "\n",
    "theme_park.strip()"
   ]
  },
  {
   "cell_type": "markdown",
   "id": "9b4f7843",
   "metadata": {
    "slideshow": {
     "slide_type": "slide"
    }
   },
   "source": [
    "## Concatenation \n",
    "\n",
    "- Joining two strings together (+)\n",
    "- **You cannot concatenate a string and an integer together!**"
   ]
  },
  {
   "cell_type": "code",
   "execution_count": null,
   "id": "431d80ec",
   "metadata": {
    "slideshow": {
     "slide_type": "fragment"
    }
   },
   "outputs": [],
   "source": [
    "First_Name = \"Jelly\"\n",
    "Last_Name = \"Doe\"\n",
    "\n",
    "First_Name + Last_Name "
   ]
  },
  {
   "cell_type": "code",
   "execution_count": null,
   "id": "e2ecdb6f",
   "metadata": {
    "slideshow": {
     "slide_type": "fragment"
    }
   },
   "outputs": [],
   "source": [
    "#add a space \n",
    "\n",
    "First_Name + ' ' + Last_Name "
   ]
  },
  {
   "cell_type": "code",
   "execution_count": null,
   "id": "767e2bd2",
   "metadata": {
    "slideshow": {
     "slide_type": "fragment"
    }
   },
   "outputs": [],
   "source": [
    "#can't concatenate an integer and a string!!!! \n",
    "\n",
    "Name = \"Jelly\"\n",
    "Dept_Number = 100\n",
    "\n",
    "Name + Dept_Number "
   ]
  },
  {
   "cell_type": "code",
   "execution_count": null,
   "id": "c0161b68",
   "metadata": {
    "slideshow": {
     "slide_type": "fragment"
    }
   },
   "outputs": [],
   "source": [
    "#change Dept_Number to a string \n",
    "\n",
    "Name + ' ' + str(Dept_Number) #type casting "
   ]
  },
  {
   "cell_type": "markdown",
   "id": "07341848",
   "metadata": {
    "slideshow": {
     "slide_type": "slide"
    }
   },
   "source": [
    "<h1><center>The End</center></h1>"
   ]
  },
  {
   "cell_type": "code",
   "execution_count": null,
   "id": "96ef4971",
   "metadata": {
    "slideshow": {
     "slide_type": "skip"
    }
   },
   "outputs": [],
   "source": [
    "from traitlets.config.manager import BaseJSONConfigManager\n",
    "from pathlib import Path\n",
    "path = Path.home() / \".jupyter\" / \"nbconfig\"\n",
    "cm = BaseJSONConfigManager(config_dir=str(path))\n",
    "cm.update(\n",
    "    \"rise\",\n",
    "    {\n",
    "        \"theme\": \"solarized\",\n",
    "        \"transition\": \"fade\",\n",
    "        \"start_slideshow_at\": \"selected\",\n",
    "        \"footer\": \"  <h3>Learning with Jelly</h3>\",\n",
    "        \"header\": \"  <h2>Python Variables - Strings</h2>\",\n",
    "        \"enable_chalkboard\": True\n",
    "     }\n",
    ")"
   ]
  },
  {
   "cell_type": "code",
   "execution_count": null,
   "id": "f5ca974e",
   "metadata": {},
   "outputs": [],
   "source": []
  }
 ],
 "metadata": {
  "celltoolbar": "Slideshow",
  "kernelspec": {
   "display_name": "Python (learn-env)",
   "language": "python",
   "name": "learn-env"
  },
  "language_info": {
   "codemirror_mode": {
    "name": "ipython",
    "version": 3
   },
   "file_extension": ".py",
   "mimetype": "text/x-python",
   "name": "python",
   "nbconvert_exporter": "python",
   "pygments_lexer": "ipython3",
   "version": "3.8.5"
  }
 },
 "nbformat": 4,
 "nbformat_minor": 5
}
