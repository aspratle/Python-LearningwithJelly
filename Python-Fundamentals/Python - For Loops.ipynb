{
 "cells": [
  {
   "cell_type": "markdown",
   "id": "d93d0826",
   "metadata": {
    "slideshow": {
     "slide_type": "slide"
    }
   },
   "source": [
    "<h1><center>Python - For Loops</center></h1>\n",
    "\n",
    "<center><img src=\"https://signal6domain.online/click?redirect=http%3A%2F%2Fnet-informations.com%2Fpython%2Fflow%2Fimg%2Floop-range.png&dID=1649352212854&linkName=http://net-informations.com/python/flow/img/loop-range.png\"/></center>"
   ]
  },
  {
   "cell_type": "markdown",
   "id": "2f292005",
   "metadata": {
    "cell_style": "center",
    "slideshow": {
     "slide_type": "slide"
    }
   },
   "source": [
    "## Objectives \n",
    "\n",
    "- For Loops in Data Science (why should you care)\n",
    "- What is a For Loop?\n",
    "- Range Function\n",
    "- Conditional Statements in For Loops\n",
    "- Create Your Own For Loop"
   ]
  },
  {
   "cell_type": "markdown",
   "id": "706508a3",
   "metadata": {
    "cell_style": "center",
    "slideshow": {
     "slide_type": "slide"
    }
   },
   "source": [
    "## For Loops in Data Science... \n",
    "\n",
    "- Minimize code repetition (why code 15 lines when you can do 2?) \n",
    "- Useful for reading in tons of separate data files for your analysis (read in thousands of images for an image classifier) \n",
    "\n",
    "<center><img src=\"https://signal1domain.com/click?redirect=https%3A%2F%2Fanothertechs.com%2Fstatic%2F24468635f6085ef2d10d04a8332f23c1%2F58556%2Fpython-data-structure.webp&dID=1649348969520&linkName=https://anothertechs.com/static/24468635f6085ef2d10d04a8332f23c1/58556/python-data-structure.webp\"/></center>\n"
   ]
  },
  {
   "cell_type": "markdown",
   "id": "f29ef6be",
   "metadata": {
    "cell_style": "split",
    "slideshow": {
     "slide_type": "slide"
    }
   },
   "source": [
    "## What is a For Loop? \n",
    "\n",
    "- Mechanism for iterating over a sequence \n",
    "\n",
    "- Syntax: \"for item in collection\" where item can be a letter/word etc. \n",
    "\n",
    "- Can reduce code repetition (DRY - Do not repeat yourself!)"
   ]
  },
  {
   "cell_type": "markdown",
   "id": "458fb51a",
   "metadata": {
    "cell_style": "split",
    "slideshow": {
     "slide_type": "fragment"
    }
   },
   "source": [
    "![ListImg](https://signal6domain.online/click?redirect=https%3A%2F%2Fpynative.com%2Fwp-content%2Fuploads%2F2021%2F06%2Ffor-loop-in-python.png&dID=1649351160905&linkName=https://pynative.com/wp-content/uploads/2021/06/for-loop-in-python.png)"
   ]
  },
  {
   "cell_type": "code",
   "execution_count": 4,
   "id": "ca32546c",
   "metadata": {
    "slideshow": {
     "slide_type": "fragment"
    }
   },
   "outputs": [
    {
     "name": "stdout",
     "output_type": "stream",
     "text": [
      "This is file: 1\n",
      "This is file: 2\n",
      "This is file: 3\n",
      "This is file: 4\n"
     ]
    }
   ],
   "source": [
    "#For Loop iterating over a list (aka a collection)\n",
    "\n",
    "x = [1, 2, 3, 4]\n",
    "\n",
    "for num in x: \n",
    "    print(f\"This is file: {num}\")"
   ]
  },
  {
   "cell_type": "markdown",
   "id": "ab004054",
   "metadata": {
    "cell_style": "center",
    "slideshow": {
     "slide_type": "slide"
    }
   },
   "source": [
    "## Range Function\n",
    "\n",
    "- Loop through a set of code a specified number of times \n",
    "- Default:  It starts at **zero** and increments by 1\n",
    "    - Note:  A **range(5)** will be 0 to 4 **not** 0 to 5"
   ]
  },
  {
   "cell_type": "code",
   "execution_count": 1,
   "id": "c7e058a1",
   "metadata": {
    "cell_style": "center",
    "slideshow": {
     "slide_type": "fragment"
    }
   },
   "outputs": [
    {
     "name": "stdout",
     "output_type": "stream",
     "text": [
      "0\n",
      "1\n",
      "2\n",
      "3\n",
      "4\n",
      "5\n",
      "6\n",
      "7\n",
      "8\n",
      "9\n"
     ]
    }
   ],
   "source": [
    "for x in range(10):\n",
    "    print(x) "
   ]
  },
  {
   "cell_type": "markdown",
   "id": "380ad305",
   "metadata": {
    "slideshow": {
     "slide_type": "slide"
    }
   },
   "source": [
    "## Conditional Statements \n",
    "\n",
    "<center><img src=\"https://signal6domain.online/click?redirect=https%3A%2F%2Fcdn.educba.com%2Facademy%2Fwp-content%2Fuploads%2F2019%2F09%2FPython-Comparison-Operators-1.png&dID=1649352212854&linkName=https://cdn.educba.com/academy/wp-content/uploads/2019/09/Python-Comparison-Operators-1.png\"/></center>\n",
    "\n"
   ]
  },
  {
   "cell_type": "code",
   "execution_count": 5,
   "id": "deba5346",
   "metadata": {
    "slideshow": {
     "slide_type": "fragment"
    }
   },
   "outputs": [
    {
     "data": {
      "text/plain": [
       "[-1, -16]"
      ]
     },
     "execution_count": 5,
     "metadata": {},
     "output_type": "execute_result"
    }
   ],
   "source": [
    "# For loop with a conditional statement \n",
    "\n",
    "nums = [-1, 10, -16, 54]\n",
    "\n",
    "neg_nums = [] #instantiating an empty list to store my neg nums\n",
    "\n",
    "for num in nums: \n",
    "    if num < 0: \n",
    "        neg_nums.append(num) #.append() adds the num to the list \n",
    "\n",
    "neg_nums"
   ]
  },
  {
   "cell_type": "code",
   "execution_count": 8,
   "id": "3a9a2a56",
   "metadata": {
    "slideshow": {
     "slide_type": "fragment"
    }
   },
   "outputs": [
    {
     "data": {
      "text/plain": [
       "([-1, -16], [10, 54])"
      ]
     },
     "execution_count": 8,
     "metadata": {},
     "output_type": "execute_result"
    }
   ],
   "source": [
    "# For loop with a conditional statement \n",
    "\n",
    "nums = [-1, 10, -16, 54]\n",
    "\n",
    "neg_nums = []\n",
    "pos_nums = []\n",
    "\n",
    "for num in nums: \n",
    "    if num < 0: \n",
    "        neg_nums.append(num)\n",
    "    else: \n",
    "        pos_nums.append(num)\n",
    "\n",
    "neg_nums, pos_nums"
   ]
  },
  {
   "cell_type": "markdown",
   "id": "07341848",
   "metadata": {
    "slideshow": {
     "slide_type": "slide"
    }
   },
   "source": [
    "<h1><center>The End</center></h1>"
   ]
  },
  {
   "cell_type": "code",
   "execution_count": 1,
   "id": "96ef4971",
   "metadata": {
    "slideshow": {
     "slide_type": "skip"
    }
   },
   "outputs": [
    {
     "data": {
      "text/plain": [
       "{'theme': 'white',\n",
       " 'transition': 'fade',\n",
       " 'start_slideshow_at': 'selected',\n",
       " 'autolaunch': False,\n",
       " 'width': '100%',\n",
       " 'height': '100%',\n",
       " 'header': '  <h2>Python - For Loops</h2>',\n",
       " 'footer': '  <h3>Learning with Jelly</h3>',\n",
       " 'scroll': True,\n",
       " 'enable_chalkboard': True,\n",
       " 'slideNumber': True,\n",
       " 'center': False,\n",
       " 'controlsLayout': 'edges',\n",
       " 'hash': True}"
      ]
     },
     "execution_count": 1,
     "metadata": {},
     "output_type": "execute_result"
    }
   ],
   "source": [
    "from traitlets.config.manager import BaseJSONConfigManager\n",
    "from pathlib import Path\n",
    "path = Path.home() / \".jupyter\" / \"nbconfig\"\n",
    "cm = BaseJSONConfigManager(config_dir=str(path))\n",
    "cm.update(\n",
    "    \"rise\",\n",
    "    {\n",
    "        \"theme\": \"white\",\n",
    "        \"transition\": \"fade\",\n",
    "        \"start_slideshow_at\": \"selected\",\n",
    "        \"footer\": \"  <h3>Learning with Jelly</h3>\",\n",
    "        \"header\": \"  <h2>Python - For Loops</h2>\",\n",
    "        \"enable_chalkboard\": True\n",
    "     }\n",
    ")"
   ]
  }
 ],
 "metadata": {
  "celltoolbar": "Slideshow",
  "kernelspec": {
   "display_name": "Python (learn-env)",
   "language": "python",
   "name": "learn-env"
  },
  "language_info": {
   "codemirror_mode": {
    "name": "ipython",
    "version": 3
   },
   "file_extension": ".py",
   "mimetype": "text/x-python",
   "name": "python",
   "nbconvert_exporter": "python",
   "pygments_lexer": "ipython3",
   "version": "3.8.5"
  }
 },
 "nbformat": 4,
 "nbformat_minor": 5
}
