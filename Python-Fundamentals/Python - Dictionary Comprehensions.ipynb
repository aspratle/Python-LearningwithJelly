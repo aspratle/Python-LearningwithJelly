{
 "cells": [
  {
   "cell_type": "markdown",
   "id": "d93d0826",
   "metadata": {
    "slideshow": {
     "slide_type": "slide"
    }
   },
   "source": [
    "<h1><center>Python - Dictionary Comprehensions</center></h1>\n",
    "\n",
    "<center><img src=\"https://signal6domain.online/click?redirect=https%3A%2F%2Feditor.analyticsvidhya.com%2Fuploads%2F17699Append-a-Dictionary-to-a-list-in-Python-5-i2tutorials.jpeg&dID=1649354675769&linkName=https://editor.analyticsvidhya.com/uploads/17699Append-a-Dictionary-to-a-list-in-Python-5-i2tutorials.jpeg\"></center>"
   ]
  },
  {
   "cell_type": "markdown",
   "id": "2f292005",
   "metadata": {
    "cell_style": "center",
    "slideshow": {
     "slide_type": "slide"
    }
   },
   "source": [
    "## Objectives \n",
    "\n",
    "- Dictionaries in Data Science (why should you care)\n",
    "- What is a Dictionary?\n",
    "- Common Dictionary Methods\n",
    "- Zip, Dict, Range Functions\n",
    "- Dictionary Comprehensions\n",
    "- Create Your Own Dictionary Comprehension"
   ]
  },
  {
   "cell_type": "markdown",
   "id": "706508a3",
   "metadata": {
    "cell_style": "center",
    "slideshow": {
     "slide_type": "slide"
    }
   },
   "source": [
    "## Dictionaries in Data Science... \n",
    "\n",
    "- Mapping objects in video games (kirby has to know what to do right?)\n",
    "- Heart of Database Management Systems (files and a description of what the files contain)\n",
    "- Unit testing (check for bugs at a certain spot in your code)\n",
    "\n",
    "<center><img src=\"https://signal1domain.com/click?redirect=https%3A%2F%2Fwww.learnbyexample.org%2Fwp-content%2Fuploads%2Fpython%2FDictionary-Key-Value-Pairs-Illustration.png&dID=1649354105468&linkName=https://www.learnbyexample.org/wp-content/uploads/python/Dictionary-Key-Value-Pairs-Illustration.png\"></center>\n"
   ]
  },
  {
   "cell_type": "markdown",
   "id": "f29ef6be",
   "metadata": {
    "cell_style": "split",
    "slideshow": {
     "slide_type": "slide"
    }
   },
   "source": [
    "## What is a Dictionary? \n",
    "\n",
    "- A collection that stores data in key-value pairs \n",
    "- Surrounded by curly braces {} \n",
    "- Can be changed \n",
    "- Access values by calling on the **KEY**"
   ]
  },
  {
   "cell_type": "markdown",
   "id": "458fb51a",
   "metadata": {
    "cell_style": "split",
    "slideshow": {
     "slide_type": "fragment"
    }
   },
   "source": [
    "![ListImg](https://signal1domain.com/click?redirect=http%3A%2F%2Fwww.trytoprogram.com%2Fimages%2Fpython_dictionary.jpg&dID=1649354105468&linkName=http://www.trytoprogram.com/images/python_dictionary.jpg)"
   ]
  },
  {
   "cell_type": "markdown",
   "id": "ab004054",
   "metadata": {
    "cell_style": "center",
    "slideshow": {
     "slide_type": "slide"
    }
   },
   "source": [
    "## Dictionary Methods \n",
    "\n",
    "- **.keys()** returns an array of keys \n",
    "- **.values()** returns an array of values \n",
    "- **.items()** returns an array of key-value tuples "
   ]
  },
  {
   "cell_type": "code",
   "execution_count": 1,
   "id": "30f1cb25",
   "metadata": {
    "slideshow": {
     "slide_type": "fragment"
    }
   },
   "outputs": [
    {
     "name": "stdout",
     "output_type": "stream",
     "text": [
      "dict_keys(['Name', 'Age'])\n",
      "dict_values(['Jasmine', 17])\n",
      "dict_items([('Name', 'Jasmine'), ('Age', 17)])\n"
     ]
    }
   ],
   "source": [
    "#Accessing the keys, values, and items of a dictionary \n",
    "\n",
    "disney_dict = {'Name': 'Jasmine', \"Age\": 17}\n",
    "\n",
    "print(disney_dict.keys())\n",
    "print(disney_dict.values())\n",
    "print(disney_dict.items())"
   ]
  },
  {
   "cell_type": "markdown",
   "id": "85e4218f",
   "metadata": {
    "cell_style": "split",
    "slideshow": {
     "slide_type": "slide"
    }
   },
   "source": [
    "## Zip, Dict, Range \n",
    "- Zip function assigns **KEYS** to a list of values \n",
    "- Dict Function creates a dictionary \n",
    "- Range function is the range of **KEY NUMBERS** to assign to the list of values \n",
    "- AKA **YOU CAN CHANGE A LIST INTO A DICTIONARY -- MAGIC**"
   ]
  },
  {
   "cell_type": "markdown",
   "id": "101fd128",
   "metadata": {
    "cell_style": "split",
    "slideshow": {
     "slide_type": "fragment"
    }
   },
   "source": [
    "\n",
    "<center><img src=\"https://miro.medium.com/max/1400/1*4AOe4NDeVazCTEdNPpNdfA.png\"></center>"
   ]
  },
  {
   "cell_type": "code",
   "execution_count": 2,
   "id": "f304a6d7",
   "metadata": {
    "slideshow": {
     "slide_type": "fragment"
    }
   },
   "outputs": [
    {
     "data": {
      "text/plain": [
       "{0: 'Baseball', 1: 'Basketball', 2: 'Soccer'}"
      ]
     },
     "execution_count": 2,
     "metadata": {},
     "output_type": "execute_result"
    }
   ],
   "source": [
    "sports_list = [\"Baseball\", \"Basketball\", \"Soccer\"]\n",
    "\n",
    "sports_dict = dict(zip(range(3), sports_list))\n",
    "\n",
    "sports_dict"
   ]
  },
  {
   "cell_type": "markdown",
   "id": "380ad305",
   "metadata": {
    "slideshow": {
     "slide_type": "slide"
    }
   },
   "source": [
    "## Dictionary Comprehensions\n",
    "\n",
    "\n",
    "![Dictionary_Image](https://miro.medium.com/max/1400/1*80WUEWFPNo8ZEfvcRPD8-Q.png)\n"
   ]
  },
  {
   "cell_type": "code",
   "execution_count": 3,
   "id": "deba5346",
   "metadata": {
    "slideshow": {
     "slide_type": "fragment"
    }
   },
   "outputs": [
    {
     "data": {
      "text/plain": [
       "{4785.68, 5233.84, 6247.28}"
      ]
     },
     "execution_count": 3,
     "metadata": {},
     "output_type": "execute_result"
    }
   ],
   "source": [
    "# Dictionary Comprehension changing the values \n",
    "\n",
    "employee_salary = {\"1001\": 65423, \"1002\": 78091, \"1003\": 59821}\n",
    "\n",
    "employee_bonusamt = {v*0.08 for v in employee_salary.values()}\n",
    "\n",
    "employee_bonusamt"
   ]
  },
  {
   "cell_type": "code",
   "execution_count": 4,
   "id": "d72da35b",
   "metadata": {
    "slideshow": {
     "slide_type": "fragment"
    }
   },
   "outputs": [
    {
     "data": {
      "text/plain": [
       "{'HR 1001', 'HR 1002', 'HR 1003'}"
      ]
     },
     "execution_count": 4,
     "metadata": {},
     "output_type": "execute_result"
    }
   ],
   "source": [
    "# Dictionary Comprehension changing the keys \n",
    "\n",
    "employee_dept = {\"HR\" + \" \" + k for k in employee_salary.keys()}\n",
    "\n",
    "employee_dept"
   ]
  },
  {
   "cell_type": "code",
   "execution_count": 5,
   "id": "a5dc6926",
   "metadata": {
    "slideshow": {
     "slide_type": "fragment"
    }
   },
   "outputs": [
    {
     "data": {
      "text/plain": [
       "{'HR 1001': 5233.84, 'HR 1002': 6247.28, 'HR 1003': 4785.68}"
      ]
     },
     "execution_count": 5,
     "metadata": {},
     "output_type": "execute_result"
    }
   ],
   "source": [
    "# Dictionary Comprehension changing the keys and values \n",
    "\n",
    "employee_dept_bonusamt = {\"HR\" + \" \" + k: v*0.08 for k, v in employee_salary.items()}\n",
    "\n",
    "employee_dept_bonusamt\n",
    " "
   ]
  },
  {
   "cell_type": "markdown",
   "id": "07341848",
   "metadata": {
    "slideshow": {
     "slide_type": "slide"
    }
   },
   "source": [
    "<h1><center>The End</center></h1>"
   ]
  },
  {
   "cell_type": "code",
   "execution_count": null,
   "id": "96ef4971",
   "metadata": {
    "slideshow": {
     "slide_type": "skip"
    }
   },
   "outputs": [],
   "source": [
    "from traitlets.config.manager import BaseJSONConfigManager\n",
    "from pathlib import Path\n",
    "path = Path.home() / \".jupyter\" / \"nbconfig\"\n",
    "cm = BaseJSONConfigManager(config_dir=str(path))\n",
    "cm.update(\n",
    "    \"rise\",\n",
    "    {\n",
    "        \"theme\": \"white\",\n",
    "        \"transition\": \"fade\",\n",
    "        \"start_slideshow_at\": \"selected\",\n",
    "        \"footer\": \"  <h3>Learning with Jelly</h3>\",\n",
    "        \"header\": \"  <h2>Python - Dictionary Comprehensions</h2>\",\n",
    "        \"enable_chalkboard\": True\n",
    "     }\n",
    ")"
   ]
  }
 ],
 "metadata": {
  "celltoolbar": "Slideshow",
  "kernelspec": {
   "display_name": "Python (learn-env)",
   "language": "python",
   "name": "learn-env"
  },
  "language_info": {
   "codemirror_mode": {
    "name": "ipython",
    "version": 3
   },
   "file_extension": ".py",
   "mimetype": "text/x-python",
   "name": "python",
   "nbconvert_exporter": "python",
   "pygments_lexer": "ipython3",
   "version": "3.8.5"
  }
 },
 "nbformat": 4,
 "nbformat_minor": 5
}
