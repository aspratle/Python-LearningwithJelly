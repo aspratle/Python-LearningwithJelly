{
 "cells": [
  {
   "cell_type": "markdown",
   "id": "d93d0826",
   "metadata": {
    "slideshow": {
     "slide_type": "slide"
    }
   },
   "source": [
    "<h1><center>Python - Matplotlib</center></h1>\n",
    "\n",
    "<center><img src=\"data:image/png;base64,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\"></center>"
   ]
  },
  {
   "cell_type": "markdown",
   "id": "2f292005",
   "metadata": {
    "cell_style": "center",
    "slideshow": {
     "slide_type": "slide"
    }
   },
   "source": [
    "## Objectives \n",
    "\n",
    "- Matplotlib (why should you care)\n",
    "- What is Matplotlib used for?\n",
    "- Scatterplot\n",
    "- Regression Line\n",
    "- Histogram"
   ]
  },
  {
   "cell_type": "markdown",
   "id": "706508a3",
   "metadata": {
    "cell_style": "center",
    "slideshow": {
     "slide_type": "slide"
    }
   },
   "source": [
    "## Matplotlib in Data Science... \n",
    "\n",
    "- Used for quick data exploration (you can get a lot of info from visualizing data) \n",
    "- Thought not the most 'fancy' visuals, they are pretty easy to make \n",
    "- Storytelling of the data is VERY IMPORTANT\n",
    "\n",
    "<center><img src=\"https://onlinedegrees.sandiego.edu/wp-content/uploads/2020/09/Storytelling_with_Data_New-1.png\"></center>\n"
   ]
  },
  {
   "cell_type": "markdown",
   "id": "f29ef6be",
   "metadata": {
    "cell_style": "center",
    "slideshow": {
     "slide_type": "slide"
    }
   },
   "source": [
    "## What is Matplotlib\n",
    "\n",
    "- Library for creating Lower level visuals (line, bar, histogram, pie)\n",
    "- Plot functionality lies in the **pyplot** module \n",
    "- Great for quick exploration (can't model anything until you **EXPLORE** it)\n"
   ]
  },
  {
   "cell_type": "markdown",
   "id": "ab004054",
   "metadata": {
    "cell_style": "center",
    "slideshow": {
     "slide_type": "slide"
    }
   },
   "source": [
    "## Visuals - Scatterplot & Regression Line\n"
   ]
  },
  {
   "cell_type": "code",
   "execution_count": 19,
   "id": "b95e4d9b",
   "metadata": {
    "slideshow": {
     "slide_type": "fragment"
    }
   },
   "outputs": [
    {
     "data": {
      "text/html": [
       "<div>\n",
       "<style scoped>\n",
       "    .dataframe tbody tr th:only-of-type {\n",
       "        vertical-align: middle;\n",
       "    }\n",
       "\n",
       "    .dataframe tbody tr th {\n",
       "        vertical-align: top;\n",
       "    }\n",
       "\n",
       "    .dataframe thead th {\n",
       "        text-align: right;\n",
       "    }\n",
       "</style>\n",
       "<table border=\"1\" class=\"dataframe\">\n",
       "  <thead>\n",
       "    <tr style=\"text-align: right;\">\n",
       "      <th></th>\n",
       "      <th>id</th>\n",
       "      <th>price</th>\n",
       "      <th>bedrooms</th>\n",
       "      <th>bathrooms</th>\n",
       "      <th>sqft_living</th>\n",
       "      <th>sqft_lot</th>\n",
       "      <th>floors</th>\n",
       "      <th>waterfront</th>\n",
       "      <th>view</th>\n",
       "      <th>condition</th>\n",
       "      <th>grade</th>\n",
       "      <th>sqft_above</th>\n",
       "      <th>sqft_basement</th>\n",
       "    </tr>\n",
       "  </thead>\n",
       "  <tbody>\n",
       "    <tr>\n",
       "      <th>0</th>\n",
       "      <td>7129300520</td>\n",
       "      <td>221900.0</td>\n",
       "      <td>3</td>\n",
       "      <td>1.00</td>\n",
       "      <td>1180</td>\n",
       "      <td>5650</td>\n",
       "      <td>1.0</td>\n",
       "      <td>0</td>\n",
       "      <td>0</td>\n",
       "      <td>3</td>\n",
       "      <td>7</td>\n",
       "      <td>1180</td>\n",
       "      <td>0</td>\n",
       "    </tr>\n",
       "    <tr>\n",
       "      <th>1</th>\n",
       "      <td>6414100192</td>\n",
       "      <td>538000.0</td>\n",
       "      <td>3</td>\n",
       "      <td>2.25</td>\n",
       "      <td>2570</td>\n",
       "      <td>7242</td>\n",
       "      <td>2.0</td>\n",
       "      <td>0</td>\n",
       "      <td>0</td>\n",
       "      <td>3</td>\n",
       "      <td>7</td>\n",
       "      <td>2170</td>\n",
       "      <td>400</td>\n",
       "    </tr>\n",
       "    <tr>\n",
       "      <th>2</th>\n",
       "      <td>5631500400</td>\n",
       "      <td>180000.0</td>\n",
       "      <td>2</td>\n",
       "      <td>1.00</td>\n",
       "      <td>770</td>\n",
       "      <td>10000</td>\n",
       "      <td>1.0</td>\n",
       "      <td>0</td>\n",
       "      <td>0</td>\n",
       "      <td>3</td>\n",
       "      <td>6</td>\n",
       "      <td>770</td>\n",
       "      <td>0</td>\n",
       "    </tr>\n",
       "    <tr>\n",
       "      <th>3</th>\n",
       "      <td>2487200875</td>\n",
       "      <td>604000.0</td>\n",
       "      <td>4</td>\n",
       "      <td>3.00</td>\n",
       "      <td>1960</td>\n",
       "      <td>5000</td>\n",
       "      <td>1.0</td>\n",
       "      <td>0</td>\n",
       "      <td>0</td>\n",
       "      <td>5</td>\n",
       "      <td>7</td>\n",
       "      <td>1050</td>\n",
       "      <td>910</td>\n",
       "    </tr>\n",
       "    <tr>\n",
       "      <th>4</th>\n",
       "      <td>1954400510</td>\n",
       "      <td>510000.0</td>\n",
       "      <td>3</td>\n",
       "      <td>2.00</td>\n",
       "      <td>1680</td>\n",
       "      <td>8080</td>\n",
       "      <td>1.0</td>\n",
       "      <td>0</td>\n",
       "      <td>0</td>\n",
       "      <td>3</td>\n",
       "      <td>8</td>\n",
       "      <td>1680</td>\n",
       "      <td>0</td>\n",
       "    </tr>\n",
       "  </tbody>\n",
       "</table>\n",
       "</div>"
      ],
      "text/plain": [
       "           id     price  bedrooms  bathrooms  sqft_living  sqft_lot  floors  \\\n",
       "0  7129300520  221900.0         3       1.00         1180      5650     1.0   \n",
       "1  6414100192  538000.0         3       2.25         2570      7242     2.0   \n",
       "2  5631500400  180000.0         2       1.00          770     10000     1.0   \n",
       "3  2487200875  604000.0         4       3.00         1960      5000     1.0   \n",
       "4  1954400510  510000.0         3       2.00         1680      8080     1.0   \n",
       "\n",
       "   waterfront  view  condition  grade  sqft_above  sqft_basement  \n",
       "0           0     0          3      7        1180              0  \n",
       "1           0     0          3      7        2170            400  \n",
       "2           0     0          3      6         770              0  \n",
       "3           0     0          5      7        1050            910  \n",
       "4           0     0          3      8        1680              0  "
      ]
     },
     "execution_count": 19,
     "metadata": {},
     "output_type": "execute_result"
    }
   ],
   "source": [
    "#Let's do a scatterplot and overlay a regression line \n",
    "\n",
    "import numpy as np \n",
    "import pandas as pd\n",
    "import matplotlib.pyplot as plt \n",
    "\n",
    "df = pd.read_csv('data/king_county.csv') \n",
    "df.head()"
   ]
  },
  {
   "cell_type": "code",
   "execution_count": 29,
   "id": "67956585",
   "metadata": {
    "slideshow": {
     "slide_type": "fragment"
    }
   },
   "outputs": [
    {
     "data": {
      "image/png": "[encoded data removed]",
      "text/plain": [
       "<Figure size 432x288 with 1 Axes>"
      ]
     },
     "metadata": {
      "needs_background": "light"
     },
     "output_type": "display_data"
    }
   ],
   "source": [
    "#Basic scatterplot how two numeric vars are related \n",
    "\n",
    "fig, ax1 = plt.subplots()\n",
    "\n",
    "X = df[\"sqft_living\"]\n",
    "y = df[\"price\"]\n",
    "\n",
    "ax1.scatter(X,y) \n",
    "ax1.ticklabel_format(style='plain')#change y-axis to non-scientific notation\n",
    "plt.show()"
   ]
  },
  {
   "cell_type": "code",
   "execution_count": 34,
   "id": "455a4a84",
   "metadata": {
    "slideshow": {
     "slide_type": "fragment"
    }
   },
   "outputs": [
    {
     "data": {
      "image/png": "[encoded data removed]",
      "text/plain": [
       "<Figure size 432x288 with 1 Axes>"
      ]
     },
     "metadata": {
      "needs_background": "light"
     },
     "output_type": "display_data"
    }
   ],
   "source": [
    "# Let's add a regression line\n",
    "\n",
    "m, b = np.polyfit(X, y, 1) #adds a regression line\n",
    "plt.plot(X, m*X+b, color=\"red\")\n",
    "plt.ticklabel_format(style='plain')\n",
    "plt.show()"
   ]
  },
  {
   "cell_type": "markdown",
   "id": "bbadf33d",
   "metadata": {
    "slideshow": {
     "slide_type": "slide"
    }
   },
   "source": [
    "## Visuals - Histogram"
   ]
  },
  {
   "cell_type": "code",
   "execution_count": 43,
   "id": "02dce78a",
   "metadata": {
    "slideshow": {
     "slide_type": "fragment"
    }
   },
   "outputs": [
    {
     "data": {
      "image/png": "[encoded data removed]",
      "text/plain": [
       "<Figure size 432x288 with 1 Axes>"
      ]
     },
     "metadata": {
      "needs_background": "light"
     },
     "output_type": "display_data"
    }
   ],
   "source": [
    "#Useful for looking at the distribution of a single numeric continuous column \n",
    "\n",
    "fig, ax1 = plt.subplots()\n",
    "\n",
    "X = df[\"sqft_living\"]\n",
    "\n",
    "ax1.hist(X)\n",
    "plt.title(\"Distribution of Square Feet Living\")\n",
    "plt.xlabel(\"Square Feet Living\")\n",
    "plt.ylabel(\"Frequency\")\n",
    "plt.show()"
   ]
  },
  {
   "cell_type": "markdown",
   "id": "07341848",
   "metadata": {
    "slideshow": {
     "slide_type": "slide"
    }
   },
   "source": [
    "<h1><center>The End</center></h1>"
   ]
  },
  {
   "cell_type": "code",
   "execution_count": 44,
   "id": "96ef4971",
   "metadata": {
    "slideshow": {
     "slide_type": "skip"
    }
   },
   "outputs": [
    {
     "data": {
      "text/plain": [
       "{'theme': 'league',\n",
       " 'transition': 'fade',\n",
       " 'start_slideshow_at': 'selected',\n",
       " 'autolaunch': False,\n",
       " 'width': '100%',\n",
       " 'height': '100%',\n",
       " 'header': '  <h2>Python - Matplotlib</h2>',\n",
       " 'footer': '  <h3>Learning with Jelly</h3>',\n",
       " 'scroll': True,\n",
       " 'enable_chalkboard': True,\n",
       " 'slideNumber': True,\n",
       " 'center': False,\n",
       " 'controlsLayout': 'edges',\n",
       " 'hash': True}"
      ]
     },
     "execution_count": 44,
     "metadata": {},
     "output_type": "execute_result"
    }
   ],
   "source": [
    "from traitlets.config.manager import BaseJSONConfigManager\n",
    "from pathlib import Path\n",
    "path = Path.home() / \".jupyter\" / \"nbconfig\"\n",
    "cm = BaseJSONConfigManager(config_dir=str(path))\n",
    "cm.update(\n",
    "    \"rise\",\n",
    "    {\n",
    "        \"theme\": \"league\",\n",
    "        \"transition\": \"fade\",\n",
    "        \"start_slideshow_at\": \"selected\",\n",
    "        \"footer\": \"  <h3>Learning with Jelly</h3>\",\n",
    "        \"header\": \"  <h2>Python - Matplotlib</h2>\",\n",
    "        \"enable_chalkboard\": True\n",
    "     }\n",
    ")"
   ]
  }
 ],
 "metadata": {
  "celltoolbar": "Slideshow",
  "kernelspec": {
   "display_name": "Python (learn-env)",
   "language": "python",
   "name": "learn-env"
  },
  "language_info": {
   "codemirror_mode": {
    "name": "ipython",
    "version": 3
   },
   "file_extension": ".py",
   "mimetype": "text/x-python",
   "name": "python",
   "nbconvert_exporter": "python",
   "pygments_lexer": "ipython3",
   "version": "3.8.5"
  }
 },
 "nbformat": 4,
 "nbformat_minor": 5
}
