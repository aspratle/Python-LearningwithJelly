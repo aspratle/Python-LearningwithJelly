{
 "cells": [
  {
   "cell_type": "markdown",
   "id": "d93d0826",
   "metadata": {
    "slideshow": {
     "slide_type": "slide"
    }
   },
   "source": [
    "<h1><center>Python - List Comprehensions</center></h1>\n",
    "\n",
    "<center><img src=\"https://www.freecodecamp.org/news/content/images/size/w2000/2021/07/list-comprehension-1.png\"/></center>"
   ]
  },
  {
   "cell_type": "markdown",
   "id": "2f292005",
   "metadata": {
    "cell_style": "center",
    "slideshow": {
     "slide_type": "slide"
    }
   },
   "source": [
    "## Objectives \n",
    "\n",
    "- Lists in Data Science (why should you care)\n",
    "- What is a List\n",
    "- Common List Methods\n",
    "- Create Your Own List Comprehensions"
   ]
  },
  {
   "cell_type": "markdown",
   "id": "706508a3",
   "metadata": {
    "cell_style": "center",
    "slideshow": {
     "slide_type": "slide"
    }
   },
   "source": [
    "## Lists in Data Science... \n",
    "\n",
    "- Lists allows you to store data -- which is important in \"Data Science\" \n",
    "- Though not the most important collection you will work with, it is still important in loops \n",
    "\n",
    "<center><img src=\"https://signal1domain.com/click?redirect=https%3A%2F%2Fanothertechs.com%2Fstatic%2F24468635f6085ef2d10d04a8332f23c1%2F58556%2Fpython-data-structure.webp&dID=1649348969520&linkName=https://anothertechs.com/static/24468635f6085ef2d10d04a8332f23c1/58556/python-data-structure.webp\"/></center>\n"
   ]
  },
  {
   "cell_type": "markdown",
   "id": "f29ef6be",
   "metadata": {
    "cell_style": "split",
    "slideshow": {
     "slide_type": "slide"
    }
   },
   "source": [
    "## What is a List? \n",
    "\n",
    "- A collection \n",
    "\n",
    "- Enclosed by square brackets [  ]\n",
    "\n",
    "- Can contain multiple data types within a single list \n",
    "    - Integers, Strings, even other Lists!"
   ]
  },
  {
   "cell_type": "markdown",
   "id": "458fb51a",
   "metadata": {
    "cell_style": "split",
    "slideshow": {
     "slide_type": "fragment"
    }
   },
   "source": [
    "![ListImg](https://signal6domain.online/click?redirect=https%3A%2F%2Fpynative.com%2Fwp-content%2Fuploads%2F2021%2F03%2Fpython-list.jpg&dID=1649348406593&linkName=https://pynative.com/wp-content/uploads/2021/03/python-list.jpg)"
   ]
  },
  {
   "cell_type": "markdown",
   "id": "ab004054",
   "metadata": {
    "cell_style": "split",
    "slideshow": {
     "slide_type": "slide"
    }
   },
   "source": [
    "## Common List Methods\n",
    "\n",
    "- Index a list \n",
    "- Remove/add items to a list\n",
    "- Sort a List\n",
    "- Concatenate lists together "
   ]
  },
  {
   "cell_type": "markdown",
   "id": "20df89e0",
   "metadata": {
    "cell_style": "split",
    "slideshow": {
     "slide_type": "fragment"
    }
   },
   "source": [
    "![Img](https://signal6domain.online/click?redirect=https%3A%2F%2Fi.pinimg.com%2F736x%2F65%2Fd3%2F33%2F65d33376a75509a09641ff987fff5770.jpg&dID=1649349203927&linkName=https://i.pinimg.com/736x/65/d3/33/65d33376a75509a09641ff987fff5770.jpg)"
   ]
  },
  {
   "cell_type": "code",
   "execution_count": 1,
   "id": "5725e401",
   "metadata": {
    "slideshow": {
     "slide_type": "fragment"
    }
   },
   "outputs": [
    {
     "data": {
      "text/plain": [
       "['HR', 'IT', 'Comm']"
      ]
     },
     "execution_count": 1,
     "metadata": {},
     "output_type": "execute_result"
    }
   ],
   "source": [
    "#Index a list\n",
    "employee_list = [\"Jelly\", 100102, [\"HR\", \"IT\", \"Comm\"]]\n",
    "employee_list[2]"
   ]
  },
  {
   "cell_type": "code",
   "execution_count": 2,
   "id": "d0af6230",
   "metadata": {
    "slideshow": {
     "slide_type": "fragment"
    }
   },
   "outputs": [
    {
     "data": {
      "text/plain": [
       "['Jelly', 100102, ['HR', 'IT', 'Comm'], 'Senior Director']"
      ]
     },
     "execution_count": 2,
     "metadata": {},
     "output_type": "execute_result"
    }
   ],
   "source": [
    "#Add an item to a list \n",
    "\n",
    "employee_list.append(\"Senior Director\")\n",
    "employee_list"
   ]
  },
  {
   "cell_type": "code",
   "execution_count": null,
   "id": "db61c842",
   "metadata": {
    "slideshow": {
     "slide_type": "fragment"
    }
   },
   "outputs": [],
   "source": [
    "#Sort a list \n",
    "\n",
    "dept_nums = [510, 124, 756, 321]\n",
    "dept_nums.sort()\n",
    "dept_nums"
   ]
  },
  {
   "cell_type": "code",
   "execution_count": null,
   "id": "e91e2093",
   "metadata": {
    "slideshow": {
     "slide_type": "fragment"
    }
   },
   "outputs": [],
   "source": [
    "#Concatenate (join) a list\n",
    "\n",
    "dept_names = [\"HR\", \"IT\", \"Comm\", \"Public Affairs\"]\n",
    "dept_nums = [510, 124, 756, 321]\n",
    "\n",
    "dept_names + dept_nums"
   ]
  },
  {
   "cell_type": "markdown",
   "id": "9b4f7843",
   "metadata": {
    "cell_style": "split",
    "slideshow": {
     "slide_type": "slide"
    }
   },
   "source": [
    "## List Comprehensions  \n",
    "\n",
    "- Surrounded by brackets \n",
    "- Creates a new list based off of an existing one\n",
    "- Notice that x is the same in the \"do this\" and \"collection\" sections \n",
    "    - Can be any letter or word you want!"
   ]
  },
  {
   "cell_type": "markdown",
   "id": "7d02556d",
   "metadata": {
    "cell_style": "split",
    "slideshow": {
     "slide_type": "fragment"
    }
   },
   "source": [
    "![List Comprehension Image](https://res.cloudinary.com/practicaldev/image/fetch/s--SpW2Mpog--/c_limit%2Cf_auto%2Cfl_progressive%2Cq_auto%2Cw_880/https://thepracticaldev.s3.amazonaws.com/i/rb5qyxr10cjdzrdno03q.png)"
   ]
  },
  {
   "cell_type": "code",
   "execution_count": null,
   "id": "9c94699d",
   "metadata": {
    "slideshow": {
     "slide_type": "fragment"
    }
   },
   "outputs": [],
   "source": [
    "#List comprehension that changes lowercase strings to uppercase \n",
    "\n",
    "salutations = [\"dr.\", \"mrs.\", \"mr.\", \"miss\"]\n",
    "\n",
    "proper_salutations = [letters.upper() for letters in salutations]\n",
    "\n",
    "proper_salutations"
   ]
  },
  {
   "cell_type": "code",
   "execution_count": null,
   "id": "dcb07dd8",
   "metadata": {
    "slideshow": {
     "slide_type": "fragment"
    }
   },
   "outputs": [],
   "source": [
    "#List comprehension that changes the hours to mins \n",
    "\n",
    "hours = [2, 6, 1.5]\n",
    "\n",
    "minutes = [hour*60 for hour in hours]\n",
    "\n",
    "minutes"
   ]
  },
  {
   "cell_type": "code",
   "execution_count": null,
   "id": "0fe09566",
   "metadata": {
    "slideshow": {
     "slide_type": "fragment"
    }
   },
   "outputs": [],
   "source": [
    "#List comprehension with a condition \n",
    "\n",
    "nums = [1, 10, 3, 20, 5]\n",
    "\n",
    "odds_to_evens = [num + 1 for num in nums if num%2 == 1]\n",
    "\n",
    "odds_to_evens"
   ]
  },
  {
   "cell_type": "markdown",
   "id": "07341848",
   "metadata": {
    "slideshow": {
     "slide_type": "slide"
    }
   },
   "source": [
    "<h1><center>The End</center></h1>"
   ]
  },
  {
   "cell_type": "code",
   "execution_count": 3,
   "id": "96ef4971",
   "metadata": {
    "slideshow": {
     "slide_type": "skip"
    }
   },
   "outputs": [
    {
     "data": {
      "text/plain": [
       "{'theme': 'night',\n",
       " 'transition': 'fade',\n",
       " 'start_slideshow_at': 'selected',\n",
       " 'autolaunch': False,\n",
       " 'width': '100%',\n",
       " 'height': '100%',\n",
       " 'header': '  <h2>Python - List Comprehensions</h2>',\n",
       " 'footer': '  <h3>Learning with Jelly</h3>',\n",
       " 'scroll': True,\n",
       " 'enable_chalkboard': True,\n",
       " 'slideNumber': True,\n",
       " 'center': False,\n",
       " 'controlsLayout': 'edges',\n",
       " 'hash': True}"
      ]
     },
     "execution_count": 3,
     "metadata": {},
     "output_type": "execute_result"
    }
   ],
   "source": [
    "from traitlets.config.manager import BaseJSONConfigManager\n",
    "from pathlib import Path\n",
    "path = Path.home() / \".jupyter\" / \"nbconfig\"\n",
    "cm = BaseJSONConfigManager(config_dir=str(path))\n",
    "cm.update(\n",
    "    \"rise\",\n",
    "    {\n",
    "        \"theme\": \"night\",\n",
    "        \"transition\": \"fade\",\n",
    "        \"start_slideshow_at\": \"selected\",\n",
    "        \"footer\": \"  <h3>Learning with Jelly</h3>\",\n",
    "        \"header\": \"  <h2>Python - List Comprehensions</h2>\",\n",
    "        \"enable_chalkboard\": True\n",
    "     }\n",
    ")"
   ]
  },
  {
   "cell_type": "code",
   "execution_count": null,
   "id": "72bbe6d0",
   "metadata": {},
   "outputs": [],
   "source": []
  }
 ],
 "metadata": {
  "celltoolbar": "Slideshow",
  "kernelspec": {
   "display_name": "Python (learn-env)",
   "language": "python",
   "name": "learn-env"
  },
  "language_info": {
   "codemirror_mode": {
    "name": "ipython",
    "version": 3
   },
   "file_extension": ".py",
   "mimetype": "text/x-python",
   "name": "python",
   "nbconvert_exporter": "python",
   "pygments_lexer": "ipython3",
   "version": "3.8.5"
  }
 },
 "nbformat": 4,
 "nbformat_minor": 5
}
